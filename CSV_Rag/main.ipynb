{
 "cells": [
  {
   "cell_type": "code",
   "execution_count": 1,
   "metadata": {},
   "outputs": [
    {
     "data": {
      "text/plain": [
       "True"
      ]
     },
     "execution_count": 1,
     "metadata": {},
     "output_type": "execute_result"
    }
   ],
   "source": [
    "from langchain_community.llms import Ollama\n",
    "from langchain_experimental.graph_transformers import LLMGraphTransformer\n",
    "from langchain_community.graphs import Neo4jGraph\n",
    "from langchain_core.documents import Document\n",
    "import os\n",
    "from dotenv import load_dotenv\n",
    "load_dotenv()"
   ]
  },
  {
   "cell_type": "code",
   "execution_count": 2,
   "metadata": {},
   "outputs": [],
   "source": [
    "llm=Ollama(model='llama2')\n",
    "llm_trans=LLMGraphTransformer(llm=llm)"
   ]
  },
  {
   "cell_type": "code",
   "execution_count": 3,
   "metadata": {},
   "outputs": [],
   "source": [
    "os.environ[\"NEO4J_URI\"]=os.getenv(\"NEO4J_URI\")\n",
    "os.environ[\"NEO4J_USERNAME\"]=os.getenv(\"NEO4J_USERNAME\")\n",
    "os.environ[\"NEO4J_PASSWORD\"]=os.getenv(\"NEO4J_PASSWORD\")\n",
    "graph=Neo4jGraph()"
   ]
  },
  {
   "cell_type": "code",
   "execution_count": 4,
   "metadata": {},
   "outputs": [],
   "source": [
    "text=\"\"\"\n",
    "Part of the opening ceremony for the 2024 Summer Olympics took place on the Seine, the first time such a ceremony was held on a river. However, this decision led to several concerns.\n",
    "In February 2024, the French government announced that, as a security precaution, the number of spectators for the opening ceremony across the Seine would be reduced from 600,000 to 300,000. This plan was proposed by Minister of the Interior Gérald Darmanin in 2022. A security perimeter around the area being used for spectator access was planned to be erected in the days ahead of the games, limiting access for the public. The reason for using the Seine, as a public outside space, was to make the opening ceremony accessible to many more people than usual. Tourists and other pedestrians were not be able to watch the ceremony on the Seine; however, spectators were given the opportunity to register for free tickets. In July 2024, it was reported that there would be an expected 220,000 spectators and 45,000 police and security officers present.\n",
    "Part of the plan to ensure security for public viewing space around the Seine was to remove the bouquinistes traditional booksellers with distinct riverside boxes from the banks of Seine. The booksellers strongly campaigned against their boxes being moved, even if they had to be closed, with President Emmanuel Macron eventually ruling that they should not be moved and requesting a different security plan. Macron said that the bouquinistes are part of the city's \"living heritage\".\n",
    "\"\"\""
   ]
  },
  {
   "cell_type": "code",
   "execution_count": 5,
   "metadata": {},
   "outputs": [
    {
     "ename": "TypeError",
     "evalue": "string indices must be integers, not 'str'",
     "output_type": "error",
     "traceback": [
      "\u001b[1;31m---------------------------------------------------------------------------\u001b[0m",
      "\u001b[1;31mTypeError\u001b[0m                                 Traceback (most recent call last)",
      "Cell \u001b[1;32mIn[5], line 2\u001b[0m\n\u001b[0;32m      1\u001b[0m docs\u001b[38;5;241m=\u001b[39m[Document(page_content\u001b[38;5;241m=\u001b[39mtext)]\n\u001b[1;32m----> 2\u001b[0m graph_docs\u001b[38;5;241m=\u001b[39mllm_trans\u001b[38;5;241m.\u001b[39mconvert_to_graph_documents(docs)\n",
      "File \u001b[1;32mc:\\Users\\frank\\anaconda3\\envs\\rags\\Lib\\site-packages\\langchain_experimental\\graph_transformers\\llm.py:773\u001b[0m, in \u001b[0;36mLLMGraphTransformer.convert_to_graph_documents\u001b[1;34m(self, documents)\u001b[0m\n\u001b[0;32m    761\u001b[0m \u001b[38;5;28;01mdef\u001b[39;00m \u001b[38;5;21mconvert_to_graph_documents\u001b[39m(\n\u001b[0;32m    762\u001b[0m     \u001b[38;5;28mself\u001b[39m, documents: Sequence[Document]\n\u001b[0;32m    763\u001b[0m ) \u001b[38;5;241m-\u001b[39m\u001b[38;5;241m>\u001b[39m List[GraphDocument]:\n\u001b[0;32m    764\u001b[0m \u001b[38;5;250m    \u001b[39m\u001b[38;5;124;03m\"\"\"Convert a sequence of documents into graph documents.\u001b[39;00m\n\u001b[0;32m    765\u001b[0m \n\u001b[0;32m    766\u001b[0m \u001b[38;5;124;03m    Args:\u001b[39;00m\n\u001b[1;32m   (...)\u001b[0m\n\u001b[0;32m    771\u001b[0m \u001b[38;5;124;03m        Sequence[GraphDocument]: The transformed documents as graphs.\u001b[39;00m\n\u001b[0;32m    772\u001b[0m \u001b[38;5;124;03m    \"\"\"\u001b[39;00m\n\u001b[1;32m--> 773\u001b[0m     \u001b[38;5;28;01mreturn\u001b[39;00m [\u001b[38;5;28mself\u001b[39m\u001b[38;5;241m.\u001b[39mprocess_response(document) \u001b[38;5;28;01mfor\u001b[39;00m document \u001b[38;5;129;01min\u001b[39;00m documents]\n",
      "File \u001b[1;32mc:\\Users\\frank\\anaconda3\\envs\\rags\\Lib\\site-packages\\langchain_experimental\\graph_transformers\\llm.py:725\u001b[0m, in \u001b[0;36mLLMGraphTransformer.process_response\u001b[1;34m(self, document)\u001b[0m\n\u001b[0;32m    722\u001b[0m parsed_json \u001b[38;5;241m=\u001b[39m \u001b[38;5;28mself\u001b[39m\u001b[38;5;241m.\u001b[39mjson_repair\u001b[38;5;241m.\u001b[39mloads(raw_schema)\n\u001b[0;32m    723\u001b[0m \u001b[38;5;28;01mfor\u001b[39;00m rel \u001b[38;5;129;01min\u001b[39;00m parsed_json:\n\u001b[0;32m    724\u001b[0m     \u001b[38;5;66;03m# Nodes need to be deduplicated using a set\u001b[39;00m\n\u001b[1;32m--> 725\u001b[0m     nodes_set\u001b[38;5;241m.\u001b[39madd((rel[\u001b[38;5;124m\"\u001b[39m\u001b[38;5;124mhead\u001b[39m\u001b[38;5;124m\"\u001b[39m], rel[\u001b[38;5;124m\"\u001b[39m\u001b[38;5;124mhead_type\u001b[39m\u001b[38;5;124m\"\u001b[39m]))\n\u001b[0;32m    726\u001b[0m     nodes_set\u001b[38;5;241m.\u001b[39madd((rel[\u001b[38;5;124m\"\u001b[39m\u001b[38;5;124mtail\u001b[39m\u001b[38;5;124m\"\u001b[39m], rel[\u001b[38;5;124m\"\u001b[39m\u001b[38;5;124mtail_type\u001b[39m\u001b[38;5;124m\"\u001b[39m]))\n\u001b[0;32m    728\u001b[0m     source_node \u001b[38;5;241m=\u001b[39m Node(\u001b[38;5;28mid\u001b[39m\u001b[38;5;241m=\u001b[39mrel[\u001b[38;5;124m\"\u001b[39m\u001b[38;5;124mhead\u001b[39m\u001b[38;5;124m\"\u001b[39m], \u001b[38;5;28mtype\u001b[39m\u001b[38;5;241m=\u001b[39mrel[\u001b[38;5;124m\"\u001b[39m\u001b[38;5;124mhead_type\u001b[39m\u001b[38;5;124m\"\u001b[39m])\n",
      "\u001b[1;31mTypeError\u001b[0m: string indices must be integers, not 'str'"
     ]
    }
   ],
   "source": [
    "docs=[Document(page_content=text)]\n",
    "graph_docs=llm_trans.convert_to_graph_documents(docs)"
   ]
  },
  {
   "cell_type": "code",
   "execution_count": null,
   "metadata": {},
   "outputs": [],
   "source": [
    "graph.add_graph_documents(graph_docs)"
   ]
  }
 ],
 "metadata": {
  "kernelspec": {
   "display_name": "rags",
   "language": "python",
   "name": "python3"
  },
  "language_info": {
   "codemirror_mode": {
    "name": "ipython",
    "version": 3
   },
   "file_extension": ".py",
   "mimetype": "text/x-python",
   "name": "python",
   "nbconvert_exporter": "python",
   "pygments_lexer": "ipython3",
   "version": "3.12.4"
  }
 },
 "nbformat": 4,
 "nbformat_minor": 2
}
